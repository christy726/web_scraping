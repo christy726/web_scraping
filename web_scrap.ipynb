{
  "nbformat": 4,
  "nbformat_minor": 0,
  "metadata": {
    "colab": {
      "provenance": [],
      "authorship_tag": "ABX9TyPa0/WcuDMO3VLMw4iGUVbI",
      "include_colab_link": true
    },
    "kernelspec": {
      "name": "python3",
      "display_name": "Python 3"
    },
    "language_info": {
      "name": "python"
    }
  },
  "cells": [
    {
      "cell_type": "markdown",
      "metadata": {
        "id": "view-in-github",
        "colab_type": "text"
      },
      "source": [
        "<a href=\"https://colab.research.google.com/github/christy726/web_scraping/blob/main/web_scrap.ipynb\" target=\"_parent\"><img src=\"https://colab.research.google.com/assets/colab-badge.svg\" alt=\"Open In Colab\"/></a>"
      ]
    },
    {
      "cell_type": "markdown",
      "source": [
        "Hello peeps,\n",
        "\n",
        "This is a simple web scraping code. In this program, four libraries are used, and they are,\n",
        "  1. requests : It use to making HTTP requests  to a specified URL.\n",
        "  2. pandas : Use to creating and manipulating DataFrames.\n",
        "  3. bs4 :It is a web scraping framework in Python for parsing HTML.\n",
        "  4. tabulate :  Use to displaying the DataFrame in a tabular form.\n",
        "\n"
      ],
      "metadata": {
        "id": "vWJfF-KcsEGT"
      }
    },
    {
      "cell_type": "code",
      "execution_count": 30,
      "metadata": {
        "id": "qg-J5-9vVC4F"
      },
      "outputs": [],
      "source": [
        "import requests\n",
        "import pandas as pd\n",
        "from bs4 import BeautifulSoup\n",
        "from tabulate import tabulate"
      ]
    },
    {
      "cell_type": "markdown",
      "source": [
        "Here we are going to scrape the list of evergreen Malayalam movies from IMDB, https://www.imdb.com/list/ls063858620 is the website taht we are going use.\n",
        "\n",
        "The website link is assigned to the variable 'URL'. Then 'requests' library makes an HTTP GET request to retrive the HTML cotent of the page and assign it to variable 'respone'. "
      ],
      "metadata": {
        "id": "TNwbWaFXaE5j"
      }
    },
    {
      "cell_type": "code",
      "source": [
        "url = 'https://www.imdb.com/list/ls063858620/'\n",
        "response = requests.get(url)"
      ],
      "metadata": {
        "id": "d0N1Pbt_0nER"
      },
      "execution_count": 31,
      "outputs": []
    },
    {
      "cell_type": "markdown",
      "source": [
        "BeautifulSoup object is created from the HTML content returned by the requests.get() call and assign it to the variable 'soup'."
      ],
      "metadata": {
        "id": "bGGtRw5ZNzkZ"
      }
    },
    {
      "cell_type": "code",
      "source": [
        "soup = BeautifulSoup(response.text, 'html.parser')"
      ],
      "metadata": {
        "id": "nsk9zW7RN0fF"
      },
      "execution_count": 33,
      "outputs": []
    },
    {
      "cell_type": "markdown",
      "source": [
        "By using select(0 method of the soup object to find all the elements with class name lister-item, represent each movie in the list and assign it to variable 'movie'."
      ],
      "metadata": {
        "id": "_k_P7HzPZuZh"
      }
    },
    {
      "cell_type": "code",
      "source": [
        "movies = soup.select('.lister-item')"
      ],
      "metadata": {
        "id": "9yf2Vo6aSmHP"
      },
      "execution_count": 34,
      "outputs": []
    },
    {
      "cell_type": "markdown",
      "source": [
        "In this cell creates an empty pandas DataFrame (df) with four columns: 'Title', 'Year',  'Director', and 'Stars'."
      ],
      "metadata": {
        "id": "SbtGQQbeSl5s"
      }
    },
    {
      "cell_type": "code",
      "source": [
        "df = pd.DataFrame(columns=['Title', 'Year', 'Director', 'Stars'])\n"
      ],
      "metadata": {
        "id": "IzCqg-I8Ut5q"
      },
      "execution_count": 35,
      "outputs": []
    },
    {
      "cell_type": "markdown",
      "source": [
        "A for loop is initialized. it loops through each movie div element and extracts the movie title, year, director and star from the HTML using select() method of the movie object. The director's name is extracted by splitting the string at the '|' character and taking the second part, then spliting again at the ':' character and taking the second part. The star's anme are extracted using a list comprehension to loop through all 'a'  elements in the second '.text-muted.text-small' element, which contains the director's name and star's names seperated by '|'. The extracted data is then added to the pandas df using thr 'loc[ ]' method."
      ],
      "metadata": {
        "id": "ItztXoiPXee7"
      }
    },
    {
      "cell_type": "code",
      "source": [
        "for movie in movies:\n",
        "    title = movie.select('.lister-item-header a')[0].text\n",
        "    year = movie.select('.lister-item-year')[0].text.strip('()')\n",
        "    director = movie.select('.text-muted.text-small')[1].text.strip().split('|')[0].split(':')[1].strip()\n",
        "    stars = [star.text.strip() for star in movie.select('.text-muted.text-small')[1].select('a')]\n",
        "    df.loc[len(df)] = [title, year, director, ', '.join(stars)]"
      ],
      "metadata": {
        "id": "Sc9p89tNVLWz"
      },
      "execution_count": 36,
      "outputs": []
    },
    {
      "cell_type": "markdown",
      "source": [
        "In this cell 'tabulate()' function is used from the 'tabulate' library/module. This will help  to pandas DataFrame (df) in tabular form."
      ],
      "metadata": {
        "id": "a2E9QUQza4cs"
      }
    },
    {
      "cell_type": "code",
      "source": [
        "table = tabulate(df, headers='keys', tablefmt='pipe', showindex=True)\n"
      ],
      "metadata": {
        "id": "5PuRSkJ3a47i"
      },
      "execution_count": 39,
      "outputs": []
    },
    {
      "cell_type": "markdown",
      "source": [
        "Finally the output  is obtained in table form. "
      ],
      "metadata": {
        "id": "CCetp2FIbfAE"
      }
    },
    {
      "cell_type": "code",
      "source": [
        "print(table)"
      ],
      "metadata": {
        "colab": {
          "base_uri": "https://localhost:8080/"
        },
        "id": "LGHaSMbEbu-F",
        "outputId": "ffc54931-cd3d-4312-fa93-025b2808414e"
      },
      "execution_count": 40,
      "outputs": [
        {
          "output_type": "stream",
          "name": "stdout",
          "text": [
            "|    | Title                     |   Year | Director         | Stars                                                                             |\n",
            "|---:|:--------------------------|-------:|:-----------------|:----------------------------------------------------------------------------------|\n",
            "|  0 | Devasuram                 |   1993 | I.V. Sasi        | I.V. Sasi, Mohanlal, Napolean, Revathi, Innocent Vareed Thekkethala               |\n",
            "|  1 | Parinayam                 |   1994 | T. Hariharan     | T. Hariharan, Mohini, Vineeth, Manoj K. Jayan, Thilakan                           |\n",
            "|  2 | A Northern Story of Valor |   1989 | T. Hariharan     | T. Hariharan, Mammootty, Madhavi, Devan, Suresh Gopi                              |\n",
            "|  3 | Thoovanathumbikal         |   1987 | P. Padmarajan    | P. Padmarajan, Mohanlal, Sumalatha, Parvathi, Ashokan                             |\n",
            "|  4 | Vadakkunokkiyantram       |   1989 | Sreenivasan      | Sreenivasan, Sreenivasan, Parvathi, Innocent Vareed Thekkethala, K.P.A.C. Lalitha |\n",
            "|  5 | Drishyam                  |   2013 | Jeethu Joseph    | Jeethu Joseph, Mohanlal, Meena, Asha Sharath, Ansiba                              |\n",
            "|  6 | Amaram                    |   1991 | Bharathan        | Bharathan, Mammootty, Maathu, Chitra, Murali                                      |\n",
            "|  7 | Kireedam                  |   1989 | Sibi Malayil     | Sibi Malayil, Mohanlal, Thilakan, Kaviyoor Ponnamma, Parvathi                     |\n",
            "|  8 | Sandesham                 |   1991 | Sathyan Anthikad | Sathyan Anthikad, Sreenivasan, Jayaram, Thilakan, Maathu                          |\n",
            "|  9 | Manichithrathazhu         |   1993 | Fazil            | Fazil, Shobana, Mohanlal, Suresh Gopi, Vinaya Prasad                              |\n",
            "| 10 | Thaniyavartanam           |   1987 | Sibi Malayil     | Sibi Malayil, Mammootty, Thilakan, Mukesh, Kaviyoor Ponnamma                      |\n",
            "| 11 | Ulladakkam                |   1991 | Kamal            | Kamal, Mohanlal, Amala Akkineni, Shobana, Murali                                  |\n",
            "| 12 | Innale                    |   1989 | P. Padmarajan    | P. Padmarajan, Shobana, Jayaram, Srividya, Suresh Gopi                            |\n",
            "| 13 | Bhoothakkannadi           |   1997 | A.K. Lohithadas  | A.K. Lohithadas, Mammootty, Sreelakshmi, Cherthala Lalitha, Sindhu Shyam          |\n",
            "| 14 | Midhunam                  |   1993 | Priyadarshan     | Priyadarshan, Mohanlal, Sreenivasan, Urvashi, Jagathy Sreekumar                   |\n",
            "| 15 | Godfather                 |   1991 | Lal,             | Lal, Siddique, N.N. Pillai, Mukesh, Philomina, Thilakan                           |\n",
            "|    |                           |        | Siddique         |                                                                                   |\n",
            "| 16 | Chithram                  |   1988 | Priyadarshan     | Priyadarshan, Mohanlal, Nedumudi Venu, Renjini, Poornam Vishwanathan              |\n",
            "| 17 | The Play of God           |   1997 | Jayaraj          | Jayaraj, Suresh Gopi, Lal, Manju Warrier, Biju Menon                              |\n",
            "| 18 | Moonnam Pakkam            |   1988 | P. Padmarajan    | P. Padmarajan, Jagathi N.K. Achari, Ajayan Adoor, Ajayan, Ashokan                 |\n",
            "| 19 | Bharatham                 |   1991 | Sibi Malayil     | Sibi Malayil, Mohanlal, Urvashi, Nedumudi Venu, Kaviyoor Ponnamma                 |\n",
            "| 20 | Thalayanamanthram         |   1990 | Sathyan Anthikad | Sathyan Anthikad, Sreenivasan, Urvashi, Jayaram, Parvathi                         |\n",
            "| 21 | Guru                      |   1997 | Rajiv Anchal     | Rajiv Anchal, Mohanlal, Suresh Gopi, Madhupal, Kaveri                             |\n",
            "| 22 | Dasharatham               |   1989 | Sibi Malayil     | Sibi Malayil, Mohanlal, Rekha, Murali, Karamana Janardanan Nair                   |\n",
            "| 23 | Desadanam                 |   1996 | Jayaraj          | Jayaraj, Master Kumar, Vijayaraghavan, Mini Nair, Unnikrishnan Nampoothiri        |\n",
            "| 24 | Kamaladalam               |   1992 | Sibi Malayil     | Sibi Malayil, Mohanlal, Parvathi, Monisha, Vineeth                                |\n"
          ]
        }
      ]
    }
  ]
}